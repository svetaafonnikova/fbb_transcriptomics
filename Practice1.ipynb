{
  "cells": [
    {
      "cell_type": "markdown",
      "metadata": {
        "id": "V67cia4EXH5a"
      },
      "source": [
        "# Семинар 1. Базовая работа с прочтениями. Домашнее задание\n",
        "\n",
        "Загрузите прочтения всех экспериментов из статьи Evaluation of two main RNA-seq approaches for gene quantification in clinical RNA sequencing: polyA+ selection versus rRNA depletion, в которой сравнивают два протокола подготовки библиотек для bulk RNA-Seq: при помощи деплеции рРНК (=total) или при помощи селекции polyA-транскриптов (=polyA+).\n",
        "\n",
        "При выполнении задания используйте Nextflow pipeline."
      ]
    },
    {
      "cell_type": "markdown",
      "metadata": {
        "id": "AoINCRlZ8rNL"
      },
      "source": [
        "### SRA Toolkit"
      ]
    },
    {
      "cell_type": "markdown",
      "metadata": {
        "id": "L7LeSS6mSiXH"
      },
      "source": [
        "Для того, чтобы загрузить SRA-эксперимент и преобразовать его в .fastq-прочтения (мы сделаем это одновременно одной командой, однако можно выполнить их независимо), необходимо выполнить следующие команды. Сначала мы загрузим SRA Toolkit с сайта NCBI:"
      ]
    },
    {
      "cell_type": "code",
      "execution_count": null,
      "metadata": {
        "colab": {
          "base_uri": "https://localhost:8080/"
        },
        "id": "8Io2LvW2fW-L",
        "outputId": "69d42b12-69dd-4930-b147-f04f8e7088d7"
      },
      "outputs": [
        {
          "name": "stdout",
          "output_type": "stream",
          "text": [
            "--2022-09-12 11:20:59--  https://ftp-trace.ncbi.nlm.nih.gov/sra/sdk/3.0.0/sratoolkit.3.0.0-ubuntu64.tar.gz\n",
            "Resolving ftp-trace.ncbi.nlm.nih.gov (ftp-trace.ncbi.nlm.nih.gov)... 130.14.250.10, 130.14.250.11, 2607:f220:41e:250::13, ...\n",
            "Connecting to ftp-trace.ncbi.nlm.nih.gov (ftp-trace.ncbi.nlm.nih.gov)|130.14.250.10|:443... connected.\n",
            "HTTP request sent, awaiting response... 200 OK\n",
            "Length: 85777118 (82M) [application/x-gzip]\n",
            "Saving to: ‘sratoolkit.3.0.0-ubuntu64.tar.gz’\n",
            "\n",
            "sratoolkit.3.0.0-ub 100%[===================>]  81.80M  11.7MB/s    in 7.3s    \n",
            "\n",
            "2022-09-12 11:21:07 (11.2 MB/s) - ‘sratoolkit.3.0.0-ubuntu64.tar.gz’ saved [85777118/85777118]\n",
            "\n",
            "sratoolkit.3.0.0-ubuntu64/\n",
            "sratoolkit.3.0.0-ubuntu64/bin/\n",
            "sratoolkit.3.0.0-ubuntu64/bin/abi-dump\n",
            "sratoolkit.3.0.0-ubuntu64/bin/abi-dump.3\n",
            "sratoolkit.3.0.0-ubuntu64/bin/abi-load\n",
            "sratoolkit.3.0.0-ubuntu64/bin/abi-load.3\n",
            "sratoolkit.3.0.0-ubuntu64/bin/align-info\n",
            "sratoolkit.3.0.0-ubuntu64/bin/align-info.3\n",
            "sratoolkit.3.0.0-ubuntu64/bin/bam-load\n",
            "sratoolkit.3.0.0-ubuntu64/bin/bam-load.3\n",
            "sratoolkit.3.0.0-ubuntu64/bin/cache-mgr\n",
            "sratoolkit.3.0.0-ubuntu64/bin/cache-mgr.3\n",
            "sratoolkit.3.0.0-ubuntu64/bin/cg-load\n",
            "sratoolkit.3.0.0-ubuntu64/bin/cg-load.3\n",
            "sratoolkit.3.0.0-ubuntu64/bin/dump-ref-fasta\n",
            "sratoolkit.3.0.0-ubuntu64/bin/dump-ref-fasta.3\n",
            "sratoolkit.3.0.0-ubuntu64/bin/fasterq-dump\n",
            "sratoolkit.3.0.0-ubuntu64/bin/fasterq-dump.3\n",
            "sratoolkit.3.0.0-ubuntu64/bin/fasterq-dump.3.0.0\n",
            "sratoolkit.3.0.0-ubuntu64/bin/fastq-dump\n",
            "sratoolkit.3.0.0-ubuntu64/bin/fastq-dump.3\n",
            "sratoolkit.3.0.0-ubuntu64/bin/fastq-dump.3.0.0\n",
            "sratoolkit.3.0.0-ubuntu64/bin/fastq-load\n",
            "sratoolkit.3.0.0-ubuntu64/bin/fastq-load.3\n",
            "sratoolkit.3.0.0-ubuntu64/bin/helicos-load\n",
            "sratoolkit.3.0.0-ubuntu64/bin/helicos-load.3\n",
            "sratoolkit.3.0.0-ubuntu64/bin/illumina-dump\n",
            "sratoolkit.3.0.0-ubuntu64/bin/illumina-dump.3\n",
            "sratoolkit.3.0.0-ubuntu64/bin/illumina-load\n",
            "sratoolkit.3.0.0-ubuntu64/bin/illumina-load.3\n",
            "sratoolkit.3.0.0-ubuntu64/bin/kar\n",
            "sratoolkit.3.0.0-ubuntu64/bin/kar.3\n",
            "sratoolkit.3.0.0-ubuntu64/bin/kdbmeta\n",
            "sratoolkit.3.0.0-ubuntu64/bin/kdbmeta.3\n",
            "sratoolkit.3.0.0-ubuntu64/bin/latf-load\n",
            "sratoolkit.3.0.0-ubuntu64/bin/latf-load.3\n",
            "sratoolkit.3.0.0-ubuntu64/bin/pacbio-load\n",
            "sratoolkit.3.0.0-ubuntu64/bin/pacbio-load.3\n",
            "sratoolkit.3.0.0-ubuntu64/bin/prefetch\n",
            "sratoolkit.3.0.0-ubuntu64/bin/prefetch.3\n",
            "sratoolkit.3.0.0-ubuntu64/bin/prefetch.3.0.0\n",
            "sratoolkit.3.0.0-ubuntu64/bin/rcexplain\n",
            "sratoolkit.3.0.0-ubuntu64/bin/rcexplain.3\n",
            "sratoolkit.3.0.0-ubuntu64/bin/sam-dump\n",
            "sratoolkit.3.0.0-ubuntu64/bin/sam-dump.3\n",
            "sratoolkit.3.0.0-ubuntu64/bin/sam-dump.3.0.0\n",
            "sratoolkit.3.0.0-ubuntu64/bin/sff-dump\n",
            "sratoolkit.3.0.0-ubuntu64/bin/sff-dump.3\n",
            "sratoolkit.3.0.0-ubuntu64/bin/sff-load\n",
            "sratoolkit.3.0.0-ubuntu64/bin/sff-load.3\n",
            "sratoolkit.3.0.0-ubuntu64/bin/sra-pileup\n",
            "sratoolkit.3.0.0-ubuntu64/bin/sra-pileup.3\n",
            "sratoolkit.3.0.0-ubuntu64/bin/sra-pileup.3.0.0\n",
            "sratoolkit.3.0.0-ubuntu64/bin/sra-search\n",
            "sratoolkit.3.0.0-ubuntu64/bin/sra-search.3\n",
            "sratoolkit.3.0.0-ubuntu64/bin/sra-sort\n",
            "sratoolkit.3.0.0-ubuntu64/bin/sra-sort-cg\n",
            "sratoolkit.3.0.0-ubuntu64/bin/sra-sort-cg.3\n",
            "sratoolkit.3.0.0-ubuntu64/bin/sra-sort.3\n",
            "sratoolkit.3.0.0-ubuntu64/bin/sra-stat\n",
            "sratoolkit.3.0.0-ubuntu64/bin/sra-stat.3\n",
            "sratoolkit.3.0.0-ubuntu64/bin/srapath\n",
            "sratoolkit.3.0.0-ubuntu64/bin/srapath.3\n",
            "sratoolkit.3.0.0-ubuntu64/bin/srapath.3.0.0\n",
            "sratoolkit.3.0.0-ubuntu64/bin/srf-load\n",
            "sratoolkit.3.0.0-ubuntu64/bin/srf-load.3\n",
            "sratoolkit.3.0.0-ubuntu64/bin/test-sra\n",
            "sratoolkit.3.0.0-ubuntu64/bin/test-sra.3\n",
            "sratoolkit.3.0.0-ubuntu64/bin/vdb-config\n",
            "sratoolkit.3.0.0-ubuntu64/bin/vdb-config.3\n",
            "sratoolkit.3.0.0-ubuntu64/bin/vdb-copy\n",
            "sratoolkit.3.0.0-ubuntu64/bin/vdb-copy.3\n",
            "sratoolkit.3.0.0-ubuntu64/bin/vdb-decrypt\n",
            "sratoolkit.3.0.0-ubuntu64/bin/vdb-decrypt.3\n",
            "sratoolkit.3.0.0-ubuntu64/bin/vdb-dump\n",
            "sratoolkit.3.0.0-ubuntu64/bin/vdb-dump.3\n",
            "sratoolkit.3.0.0-ubuntu64/bin/vdb-dump.3.0.0\n",
            "sratoolkit.3.0.0-ubuntu64/bin/vdb-encrypt\n",
            "sratoolkit.3.0.0-ubuntu64/bin/vdb-encrypt.3\n",
            "sratoolkit.3.0.0-ubuntu64/bin/vdb-lock\n",
            "sratoolkit.3.0.0-ubuntu64/bin/vdb-lock.3\n",
            "sratoolkit.3.0.0-ubuntu64/bin/vdb-unlock\n",
            "sratoolkit.3.0.0-ubuntu64/bin/vdb-unlock.3\n",
            "sratoolkit.3.0.0-ubuntu64/bin/vdb-validate\n",
            "sratoolkit.3.0.0-ubuntu64/bin/vdb-validate.3\n",
            "sratoolkit.3.0.0-ubuntu64/bin/ncbi/\n",
            "sratoolkit.3.0.0-ubuntu64/bin/ncbi/certs.kfg\n",
            "sratoolkit.3.0.0-ubuntu64/bin/ncbi/default.kfg\n",
            "sratoolkit.3.0.0-ubuntu64/bin/ncbi/vdb-copy.kfg\n",
            "sratoolkit.3.0.0-ubuntu64/bin/srapath-orig.3.0.0\n",
            "sratoolkit.3.0.0-ubuntu64/bin/sratools.3.0.0\n",
            "sratoolkit.3.0.0-ubuntu64/bin/srf-load.3.0.0\n",
            "sratoolkit.3.0.0-ubuntu64/bin/test-sra.3.0.0\n",
            "sratoolkit.3.0.0-ubuntu64/bin/vdb-config.3.0.0\n",
            "sratoolkit.3.0.0-ubuntu64/bin/vdb-copy.3.0.0\n",
            "sratoolkit.3.0.0-ubuntu64/bin/vdb-decrypt.3.0.0\n",
            "sratoolkit.3.0.0-ubuntu64/bin/vdb-dump-orig.3.0.0\n",
            "sratoolkit.3.0.0-ubuntu64/bin/vdb-encrypt.3.0.0\n",
            "sratoolkit.3.0.0-ubuntu64/bin/vdb-lock.3.0.0\n",
            "sratoolkit.3.0.0-ubuntu64/bin/vdb-unlock.3.0.0\n",
            "sratoolkit.3.0.0-ubuntu64/bin/vdb-validate.3.0.0\n",
            "sratoolkit.3.0.0-ubuntu64/bin/abi-dump.3.0.0\n",
            "sratoolkit.3.0.0-ubuntu64/bin/abi-load.3.0.0\n",
            "sratoolkit.3.0.0-ubuntu64/bin/align-info.3.0.0\n",
            "sratoolkit.3.0.0-ubuntu64/bin/bam-load.3.0.0\n",
            "sratoolkit.3.0.0-ubuntu64/bin/cache-mgr.3.0.0\n",
            "sratoolkit.3.0.0-ubuntu64/bin/cg-load.3.0.0\n",
            "sratoolkit.3.0.0-ubuntu64/bin/dump-ref-fasta.3.0.0\n",
            "sratoolkit.3.0.0-ubuntu64/bin/fasterq-dump-orig.3.0.0\n",
            "sratoolkit.3.0.0-ubuntu64/bin/fastq-dump-orig.3.0.0\n",
            "sratoolkit.3.0.0-ubuntu64/bin/fastq-load.3.0.0\n",
            "sratoolkit.3.0.0-ubuntu64/bin/helicos-load.3.0.0\n",
            "sratoolkit.3.0.0-ubuntu64/bin/illumina-dump.3.0.0\n",
            "sratoolkit.3.0.0-ubuntu64/bin/illumina-load.3.0.0\n",
            "sratoolkit.3.0.0-ubuntu64/bin/kar.3.0.0\n",
            "sratoolkit.3.0.0-ubuntu64/bin/kdbmeta.3.0.0\n",
            "sratoolkit.3.0.0-ubuntu64/bin/latf-load.3.0.0\n",
            "sratoolkit.3.0.0-ubuntu64/bin/pacbio-load.3.0.0\n",
            "sratoolkit.3.0.0-ubuntu64/bin/prefetch-orig.3.0.0\n",
            "sratoolkit.3.0.0-ubuntu64/bin/rcexplain.3.0.0\n",
            "sratoolkit.3.0.0-ubuntu64/bin/sam-dump-orig.3.0.0\n",
            "sratoolkit.3.0.0-ubuntu64/bin/sff-dump.3.0.0\n",
            "sratoolkit.3.0.0-ubuntu64/bin/sff-load.3.0.0\n",
            "sratoolkit.3.0.0-ubuntu64/bin/sra-pileup-orig.3.0.0\n",
            "sratoolkit.3.0.0-ubuntu64/bin/sra-search.3.0.0\n",
            "sratoolkit.3.0.0-ubuntu64/bin/sra-sort-cg.3.0.0\n",
            "sratoolkit.3.0.0-ubuntu64/bin/sra-sort.3.0.0\n",
            "sratoolkit.3.0.0-ubuntu64/bin/sra-stat.3.0.0\n",
            "sratoolkit.3.0.0-ubuntu64/example/\n",
            "sratoolkit.3.0.0-ubuntu64/example/perl/\n",
            "sratoolkit.3.0.0-ubuntu64/example/perl/base-stats.pl\n",
            "sratoolkit.3.0.0-ubuntu64/example/perl/dump-reference.pl\n",
            "sratoolkit.3.0.0-ubuntu64/example/perl/gene-lookup.pl\n",
            "sratoolkit.3.0.0-ubuntu64/example/perl/mismatch-stats.pl\n",
            "sratoolkit.3.0.0-ubuntu64/example/perl/quality-stats.pl\n",
            "sratoolkit.3.0.0-ubuntu64/example/perl/simplefastq.pl\n",
            "sratoolkit.3.0.0-ubuntu64/example/perl/splitfastq.pl\n",
            "sratoolkit.3.0.0-ubuntu64/README-blastn\n",
            "sratoolkit.3.0.0-ubuntu64/README-vdb-config\n",
            "sratoolkit.3.0.0-ubuntu64/schema/\n",
            "sratoolkit.3.0.0-ubuntu64/schema/align/\n",
            "sratoolkit.3.0.0-ubuntu64/schema/align/align.vschema\n",
            "sratoolkit.3.0.0-ubuntu64/schema/align/mate-cache.vschema\n",
            "sratoolkit.3.0.0-ubuntu64/schema/align/pileup-stats.vschema\n",
            "sratoolkit.3.0.0-ubuntu64/schema/align/qstat.vschema\n",
            "sratoolkit.3.0.0-ubuntu64/schema/align/refseq.vschema\n",
            "sratoolkit.3.0.0-ubuntu64/schema/align/seq.vschema\n",
            "sratoolkit.3.0.0-ubuntu64/schema/csra2/\n",
            "sratoolkit.3.0.0-ubuntu64/schema/csra2/csra2.vschema\n",
            "sratoolkit.3.0.0-ubuntu64/schema/csra2/read.vschema\n",
            "sratoolkit.3.0.0-ubuntu64/schema/csra2/reference.vschema\n",
            "sratoolkit.3.0.0-ubuntu64/schema/csra2/stats.vschema\n",
            "sratoolkit.3.0.0-ubuntu64/schema/insdc/\n",
            "sratoolkit.3.0.0-ubuntu64/schema/insdc/insdc.vschema\n",
            "sratoolkit.3.0.0-ubuntu64/schema/insdc/seq.vschema\n",
            "sratoolkit.3.0.0-ubuntu64/schema/insdc/sra.vschema\n",
            "sratoolkit.3.0.0-ubuntu64/schema/ncbi/\n",
            "sratoolkit.3.0.0-ubuntu64/schema/ncbi/clip.vschema\n",
            "sratoolkit.3.0.0-ubuntu64/schema/ncbi/ncbi.vschema\n",
            "sratoolkit.3.0.0-ubuntu64/schema/ncbi/pnbrdb.vschema\n",
            "sratoolkit.3.0.0-ubuntu64/schema/ncbi/seq-graph.vschema\n",
            "sratoolkit.3.0.0-ubuntu64/schema/ncbi/seq.vschema\n",
            "sratoolkit.3.0.0-ubuntu64/schema/ncbi/spotname.vschema\n",
            "sratoolkit.3.0.0-ubuntu64/schema/ncbi/sra.vschema\n",
            "sratoolkit.3.0.0-ubuntu64/schema/ncbi/stats.vschema\n",
            "sratoolkit.3.0.0-ubuntu64/schema/ncbi/trace.vschema\n",
            "sratoolkit.3.0.0-ubuntu64/schema/ncbi/varloc.vschema\n",
            "sratoolkit.3.0.0-ubuntu64/schema/ncbi/wgs-contig.vschema\n",
            "sratoolkit.3.0.0-ubuntu64/schema/sra/\n",
            "sratoolkit.3.0.0-ubuntu64/schema/sra/454.vschema\n",
            "sratoolkit.3.0.0-ubuntu64/schema/sra/abi.vschema\n",
            "sratoolkit.3.0.0-ubuntu64/schema/sra/generic-fastq.vschema\n",
            "sratoolkit.3.0.0-ubuntu64/schema/sra/helicos.vschema\n",
            "sratoolkit.3.0.0-ubuntu64/schema/sra/illumina.vschema\n",
            "sratoolkit.3.0.0-ubuntu64/schema/sra/ion-torrent.vschema\n",
            "sratoolkit.3.0.0-ubuntu64/schema/sra/nanopore.vschema\n",
            "sratoolkit.3.0.0-ubuntu64/schema/sra/pacbio.vschema\n",
            "sratoolkit.3.0.0-ubuntu64/schema/sra/pevents.vschema\n",
            "sratoolkit.3.0.0-ubuntu64/schema/vdb/\n",
            "sratoolkit.3.0.0-ubuntu64/schema/vdb/built-in.vschema\n",
            "sratoolkit.3.0.0-ubuntu64/schema/vdb/vdb.vschema\n",
            "sratoolkit.3.0.0-ubuntu64/CHANGES\n",
            "sratoolkit.3.0.0-ubuntu64/README.md\n"
          ]
        }
      ],
      "source": [
        "!wget https://ftp-trace.ncbi.nlm.nih.gov/sra/sdk/3.0.0/sratoolkit.3.0.0-ubuntu64.tar.gz\n",
        "!tar -xvzf sratoolkit.3.0.0-ubuntu64.tar.gz"
      ]
    },
    {
      "cell_type": "markdown",
      "metadata": {
        "id": "eoAT9iJJSwpE"
      },
      "source": [
        "Нам необходимо загрузить прочтения при помощи программы fasterq-dump из SRA Toolkit. Внутри Google Colab настроить SRA Toolkit правильно крайне сложно, поэтому необходимо будет выполнить некоторую странную процедуру: специально вызвать Segmentation fault у инструмента vdb-config."
      ]
    },
    {
      "cell_type": "code",
      "execution_count": null,
      "metadata": {
        "colab": {
          "base_uri": "https://localhost:8080/"
        },
        "id": "dTfvxgxCfnBi",
        "outputId": "24d23100-2903-4fbf-fcfb-dfc3d47b8e73"
      },
      "outputs": [
        {
          "name": "stdout",
          "output_type": "stream",
          "text": [
            "\u001b[2J\u001b[?25l\u001b[?1000h\u001b[?1002h2022-09-12T11:21:46 vdb-config.3.0.0 fatal: SIGNAL - Segmentation fault \n"
          ]
        }
      ],
      "source": [
        "!sratoolkit.3.0.0-ubuntu64/bin/vdb-config -i"
      ]
    },
    {
      "cell_type": "markdown",
      "metadata": {
        "id": "rIiskV7WS9PG"
      },
      "source": [
        "Теперь мы можем спокойно запустить fastq-dump и разархивировать наши прочтения"
      ]
    },
    {
      "cell_type": "markdown",
      "metadata": {
        "id": "6LqNDfUDTdE_"
      },
      "source": [
        "# Загружаем NextFlow, настраиваем"
      ]
    },
    {
      "cell_type": "markdown",
      "metadata": {
        "id": "V_o0VsjrWp6c"
      },
      "source": [
        "NextFlow — это специальный язык (groovy), который позволяет вам запускать целые пайплайны из нескольких последовательно выполняемых программ, следя за тем, чтобы каждая стадия выполнялась строго одна за одной."
      ]
    },
    {
      "cell_type": "code",
      "execution_count": null,
      "metadata": {
        "colab": {
          "base_uri": "https://localhost:8080/"
        },
        "id": "CXTGOLCzO27n",
        "outputId": "b97ecb3c-36af-4e56-d75f-264c0b765399"
      },
      "outputs": [
        {
          "name": "stdout",
          "output_type": "stream",
          "text": [
            "CAPSULE: Downloading dependency org.multiverse:multiverse-core:jar:0.7.0\n",
            "CAPSULE: Downloading dependency ch.qos.logback:logback-classic:jar:1.2.9\n",
            "CAPSULE: Downloading dependency org.checkerframework:checker-compat-qual:jar:2.0.0\n",
            "CAPSULE: Downloading dependency org.codehaus.mojo:animal-sniffer-annotations:jar:1.14\n",
            "CAPSULE: Downloading dependency com.google.errorprone:error_prone_annotations:jar:2.1.3\n",
            "CAPSULE: Downloading dependency org.codehaus.groovy:groovy-templates:jar:3.0.10\n",
            "CAPSULE: Downloading dependency com.google.guava:guava:jar:24.1.1-jre\n",
            "CAPSULE: Downloading dependency org.codehaus.jsr166-mirror:jsr166y:jar:1.7.0\n",
            "CAPSULE: Downloading dependency io.nextflow:nf-commons:jar:22.04.5\n",
            "CAPSULE: Downloading dependency org.slf4j:jcl-over-slf4j:jar:1.7.32\n",
            "CAPSULE: Downloading dependency com.beust:jcommander:jar:1.35\n",
            "CAPSULE: Downloading dependency org.slf4j:jul-to-slf4j:jar:1.7.32\n",
            "CAPSULE: Downloading dependency com.google.j2objc:j2objc-annotations:jar:1.1\n",
            "CAPSULE: Downloading dependency ch.grengine:grengine:jar:1.3.0\n",
            "CAPSULE: Downloading dependency jline:jline:jar:2.9\n",
            "CAPSULE: Downloading dependency com.github.zafarkhaja:java-semver:jar:0.9.0\n",
            "CAPSULE: Downloading dependency org.jsoup:jsoup:jar:1.14.3\n",
            "CAPSULE: Downloading dependency org.codehaus.groovy:groovy-xml:jar:3.0.10\n",
            "CAPSULE: Downloading dependency javax.mail:mail:jar:1.4.7\n",
            "CAPSULE: Downloading dependency io.nextflow:nf-httpfs:jar:22.04.5\n",
            "CAPSULE: Downloading dependency commons-lang:commons-lang:jar:2.6\n",
            "CAPSULE: Downloading dependency org.iq80.leveldb:leveldb-api:jar:0.12\n",
            "CAPSULE: Downloading dependency org.codehaus.gpars:gpars:jar:1.2.1\n",
            "CAPSULE: Downloading dependency org.slf4j:slf4j-api:jar:1.7.32\n",
            "CAPSULE: Downloading dependency com.google.code.findbugs:jsr305:jar:1.3.9\n",
            "CAPSULE: Downloading dependency org.objenesis:objenesis:jar:2.1\n",
            "CAPSULE: Downloading dependency com.esotericsoftware.kryo:kryo:jar:2.24.0\n",
            "CAPSULE: Downloading dependency org.apache.ivy:ivy:jar:2.3.0\n",
            "CAPSULE: Downloading dependency org.codehaus.groovy:groovy-json:jar:3.0.10\n",
            "CAPSULE: Downloading dependency com.googlecode.javaewah:JavaEWAH:jar:1.1.6\n",
            "CAPSULE: Downloading dependency org.codehaus.groovy:groovy-nio:jar:3.0.10\n",
            "CAPSULE: Downloading dependency org.codehaus.groovy:groovy:jar:3.0.10\n",
            "CAPSULE: Downloading dependency org.slf4j:log4j-over-slf4j:jar:1.7.32\n",
            "CAPSULE: Downloading dependency dev.failsafe:failsafe:jar:3.1.0\n",
            "CAPSULE: Downloading dependency javax.activation:activation:jar:1.1.1\n",
            "CAPSULE: Downloading dependency org.yaml:snakeyaml:jar:1.28\n",
            "CAPSULE: Downloading dependency com.jcraft:jsch:jar:0.1.54\n",
            "CAPSULE: Downloading dependency org.pf4j:pf4j:jar:3.4.1\n",
            "CAPSULE: Downloading dependency org.iq80.leveldb:leveldb:jar:0.12\n",
            "CAPSULE: Downloading dependency ch.qos.logback:logback-core:jar:1.2.9\n",
            "CAPSULE: Downloading dependency com.jcraft:jzlib:jar:1.1.1\n",
            "CAPSULE: Downloading dependency com.google.code.gson:gson:jar:2.2.4\n",
            "CAPSULE: Downloading dependency io.nextflow:nextflow:jar:22.04.5\n",
            "CAPSULE: Downloading dependency org.eclipse.jgit:org.eclipse.jgit:jar:5.2.1.201812262042-r\n",
            "CAPSULE: Downloading dependency org.pf4j:pf4j-update:jar:2.3.0\n",
            "CAPSULE: Downloading dependency commons-codec:commons-codec:jar:1.10\n",
            "\n",
            "      N E X T F L O W\n",
            "      version 22.04.5 build 5708\n",
            "      created 15-07-2022 16:09 UTC \n",
            "      cite doi:10.1038/nbt.3820\n",
            "      http://nextflow.io\n",
            "\n",
            "\n",
            "Nextflow installation completed. Please note:\n",
            "- the executable file `nextflow` has been created in the folder: /content\n",
            "- you may complete the installation by moving it to a directory in your $PATH\n",
            "\n"
          ]
        }
      ],
      "source": [
        "!curl -fsSL https://get.nextflow.io | bash"
      ]
    },
    {
      "cell_type": "markdown",
      "metadata": {
        "id": "Gp8LNb6XWhyW"
      },
      "source": [
        "# Загружаем прочтения\n"
      ]
    },
    {
      "cell_type": "markdown",
      "metadata": {
        "id": "TsCK4osjXbiI"
      },
      "source": [
        "Создала файл pr_1_hw.nf со следующим содержанием:"
      ]
    },
    {
      "cell_type": "markdown",
      "metadata": {
        "id": "2lsLkuZmGJ_0"
      },
      "source": [
        "Для того, чтобы обкспечить параллельный запуск сразу нескольких процессов одним и тем же пайплайном, необходимо распарсить аргумент, который мы подаём в переменную <code>SRA</code> как список, после чего запустить наш немного модифицированный пайплайн:\n",
        "```\n",
        "params.results_dir = \"results/\"\n",
        "params.SRA = \"SRR000000\"\n",
        "\n",
        "log.info \"\"\n",
        "log.info \"  Q U A L I T Y   C O N T R O L  \"\n",
        "log.info \"=================================\"\n",
        "log.info \"SRA number         : ${params.SRA}\"\n",
        "log.info \"Results location   : ${params.results_dir}\"\n",
        "\n",
        "process DownloadFastQ {\n",
        "  publishDir \"${params.results_dir}\"\n",
        "\n",
        "  output:\n",
        "    path \"reads/*\"\n",
        "\n",
        "  script:\n",
        "    \"\"\"\n",
        "    /content/sratoolkit.3.0.0-ubuntu64/bin/fasterq-dump ${params.SRA} -O reads/\n",
        "    \"\"\"  \n",
        "}\n",
        "\n",
        "workflow {\n",
        "  DownloadFastQ()  \n",
        "}\n",
        "```\n"
      ]
    },
    {
      "cell_type": "markdown",
      "metadata": {
        "id": "JNT1ZZTNZBy0"
      },
      "source": [
        "В статье прочтения под номером SRR6410603"
      ]
    },
    {
      "cell_type": "code",
      "execution_count": null,
      "metadata": {
        "colab": {
          "background_save": true,
          "base_uri": "https://localhost:8080/"
        },
        "id": "_iyupT1xNR46",
        "outputId": "cad4a14b-eb94-47e0-9f5c-5254fd201101"
      },
      "outputs": [
        {
          "name": "stdout",
          "output_type": "stream",
          "text": [
            "N E X T F L O W  ~  version 22.04.5\n",
            "Launching `/content/drive/MyDrive/pr_1_hw.nf` [clever_mirzakhani] DSL2 - revision: fa5df5b637\n",
            "\n",
            "  Q U A L I T Y   C O N T R O L  \n",
            "=================================\n",
            "SRA number         : SRR6410603\n",
            "Results location   : results/\n",
            "[-        ] process > DownloadFastQ -\u001b[K\n",
            "\u001b[2A\n",
            "[-        ] process > DownloadFastQ [  0%] 0 of 1\u001b[K\n",
            "\u001b[2A\n",
            "executor >  local (1)\u001b[K\n",
            "[9e/52b56e] process > DownloadFastQ [  0%] 0 of 1\u001b[K\n",
            "\u001b[3A\n",
            "executor >  local (1)\u001b[K\n",
            "[9e/52b56e] process > DownloadFastQ [100%] 1 of 1 ✔\u001b[K\n",
            "\u001b[3A\n",
            "executor >  local (1)\u001b[K\n",
            "[9e/52b56e] process > DownloadFastQ [100%] 1 of 1 ✔\u001b[K\n",
            "\u001b[32;1mCompleted at: 12-Sep-2022 12:11:51\n",
            "Duration    : 17m 57s\n",
            "CPU hours   : 0.3\n",
            "Succeeded   : 1\n",
            "\u001b[22;39m\u001b[K\n",
            "\n"
          ]
        }
      ],
      "source": [
        "!./nextflow run /content/drive/MyDrive/pr_1_hw.nf --SRA SRR6410603"
      ]
    }
  ],
  "metadata": {
    "colab": {
      "provenance": [],
      "collapsed_sections": []
    },
    "kernelspec": {
      "display_name": "Python 3",
      "name": "python3"
    },
    "language_info": {
      "name": "python"
    }
  },
  "nbformat": 4,
  "nbformat_minor": 0
}